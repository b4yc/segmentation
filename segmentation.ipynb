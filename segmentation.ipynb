{
 "cells": [
  {
   "attachments": {},
   "cell_type": "markdown",
   "metadata": {},
   "source": [
    "Imports"
   ]
  },
  {
   "cell_type": "code",
   "execution_count": 2,
   "metadata": {},
   "outputs": [],
   "source": [
    "import sys\n",
    "import os\n",
    "import glob\n",
    "import random\n",
    "import time\n",
    "import numpy as np\n",
    "import pandas as pd\n",
    "import cv2\n",
    "import matplotlib.pyplot as plt\n",
    "import seaborn as sns\n",
    "from sklearn.impute import KNNImputer\n",
    "from sklearn.model_selection import train_test_split"
   ]
  },
  {
   "attachments": {},
   "cell_type": "markdown",
   "metadata": {},
   "source": [
    "Read Files"
   ]
  },
  {
   "cell_type": "code",
   "execution_count": 3,
   "metadata": {},
   "outputs": [],
   "source": [
    "files = []\n",
    "path = 'archive-2/lgg-mri-segmentation/kaggle_3m/'\n",
    "\n",
    "# the ground truth are files marked with 'mask'\n",
    "mask_files = glob.glob(path + '*/*_mask*')\n",
    "data = pd.read_csv(path + \"data.csv\")\n",
    "for i in mask_files:\n",
    "    # for the truthful mask files, retrieve the blank image\n",
    "    files.append(i.replace('_mask',''))"
   ]
  },
  {
   "attachments": {},
   "cell_type": "markdown",
   "metadata": {},
   "source": [
    "Preprocess Data"
   ]
  },
  {
   "cell_type": "code",
   "execution_count": 4,
   "metadata": {},
   "outputs": [
    {
     "name": "stdout",
     "output_type": "stream",
     "text": [
      "Number of non tumours: 2556\n",
      "Number of tumours: 1373\n"
     ]
    }
   ],
   "source": [
    "df = pd.DataFrame()\n",
    "df['img']= files\n",
    "df['mask']= mask_files\n",
    "\n",
    "# label the classification from the masked files\n",
    "def labels(mask_path):\n",
    "    value = np.max(cv2.imread(mask_path))\n",
    "    if value > 0:\n",
    "        return 1\n",
    "    else: return 0\n",
    "\n",
    "df['label'] = df['mask'].apply(labels)\n",
    "print(\"Number of non tumours: \" + str(df.label.value_counts()[0]))\n",
    "print(\"Number of tumours: \" + str(df.label.value_counts()[1]))\n"
   ]
  },
  {
   "attachments": {},
   "cell_type": "markdown",
   "metadata": {},
   "source": [
    "Since the number of classifications are somewhat evenly distributed, we can directly use the whole dataset."
   ]
  },
  {
   "attachments": {},
   "cell_type": "markdown",
   "metadata": {},
   "source": [
    "Group Dataset By Patients"
   ]
  },
  {
   "cell_type": "code",
   "execution_count": 5,
   "metadata": {},
   "outputs": [],
   "source": [
    "# group by patients\n",
    "\n",
    "# def path(x):\n",
    "#   y = x.split(\"/\")[-1]\n",
    "#   z = y.split(\".\")[0]\n",
    "#   z1 = z.split(\"_\")\n",
    "#   return \"_\".join(z1[:-2])\n",
    "\n",
    "# df['Patient'] = df.img.apply(path)\n",
    "# k = df.groupby(df.Patient)\n",
    "# l = k.size()\n",
    "# rows, cols = 5, 5\n",
    "# l = k.get_group('TCGA_CS_4941')\n"
   ]
  },
  {
   "attachments": {},
   "cell_type": "markdown",
   "metadata": {},
   "source": [
    "Load an image and it's corresponding mask for one patient"
   ]
  },
  {
   "cell_type": "code",
   "execution_count": 6,
   "metadata": {},
   "outputs": [],
   "source": [
    "# fig = plt.figure(figsize=(16, 16))\n",
    "\n",
    "# plt.subplot(121)\n",
    "# img = cv2.imread(l['img'].iloc[0], cv2.IMREAD_UNCHANGED)\n",
    "# plt.imshow(img)\n",
    "# plt.title(\"Image\")\n",
    "\n",
    "# plt.subplot(122)\n",
    "# msk_path = l['mask'].iloc[0]\n",
    "# msk = cv2.imread(msk_path)\n",
    "# plt.imshow(msk)\n",
    "# plt.title(\"Mask\")\n",
    "\n",
    "# plt.show()\n",
    "\n"
   ]
  },
  {
   "cell_type": "code",
   "execution_count": 7,
   "metadata": {},
   "outputs": [
    {
     "data": {
      "text/html": [
       "<div>\n",
       "<style scoped>\n",
       "    .dataframe tbody tr th:only-of-type {\n",
       "        vertical-align: middle;\n",
       "    }\n",
       "\n",
       "    .dataframe tbody tr th {\n",
       "        vertical-align: top;\n",
       "    }\n",
       "\n",
       "    .dataframe thead th {\n",
       "        text-align: right;\n",
       "    }\n",
       "</style>\n",
       "<table border=\"1\" class=\"dataframe\">\n",
       "  <thead>\n",
       "    <tr style=\"text-align: right;\">\n",
       "      <th></th>\n",
       "      <th>img</th>\n",
       "      <th>mask</th>\n",
       "      <th>label</th>\n",
       "    </tr>\n",
       "  </thead>\n",
       "  <tbody>\n",
       "    <tr>\n",
       "      <th>0</th>\n",
       "      <td>archive-2/lgg-mri-segmentation/kaggle_3m/TCGA_...</td>\n",
       "      <td>archive-2/lgg-mri-segmentation/kaggle_3m/TCGA_...</td>\n",
       "      <td>0</td>\n",
       "    </tr>\n",
       "    <tr>\n",
       "      <th>1</th>\n",
       "      <td>archive-2/lgg-mri-segmentation/kaggle_3m/TCGA_...</td>\n",
       "      <td>archive-2/lgg-mri-segmentation/kaggle_3m/TCGA_...</td>\n",
       "      <td>0</td>\n",
       "    </tr>\n",
       "    <tr>\n",
       "      <th>2</th>\n",
       "      <td>archive-2/lgg-mri-segmentation/kaggle_3m/TCGA_...</td>\n",
       "      <td>archive-2/lgg-mri-segmentation/kaggle_3m/TCGA_...</td>\n",
       "      <td>0</td>\n",
       "    </tr>\n",
       "    <tr>\n",
       "      <th>3</th>\n",
       "      <td>archive-2/lgg-mri-segmentation/kaggle_3m/TCGA_...</td>\n",
       "      <td>archive-2/lgg-mri-segmentation/kaggle_3m/TCGA_...</td>\n",
       "      <td>0</td>\n",
       "    </tr>\n",
       "    <tr>\n",
       "      <th>4</th>\n",
       "      <td>archive-2/lgg-mri-segmentation/kaggle_3m/TCGA_...</td>\n",
       "      <td>archive-2/lgg-mri-segmentation/kaggle_3m/TCGA_...</td>\n",
       "      <td>0</td>\n",
       "    </tr>\n",
       "    <tr>\n",
       "      <th>...</th>\n",
       "      <td>...</td>\n",
       "      <td>...</td>\n",
       "      <td>...</td>\n",
       "    </tr>\n",
       "    <tr>\n",
       "      <th>3924</th>\n",
       "      <td>archive-2/lgg-mri-segmentation/kaggle_3m/TCGA_...</td>\n",
       "      <td>archive-2/lgg-mri-segmentation/kaggle_3m/TCGA_...</td>\n",
       "      <td>0</td>\n",
       "    </tr>\n",
       "    <tr>\n",
       "      <th>3925</th>\n",
       "      <td>archive-2/lgg-mri-segmentation/kaggle_3m/TCGA_...</td>\n",
       "      <td>archive-2/lgg-mri-segmentation/kaggle_3m/TCGA_...</td>\n",
       "      <td>0</td>\n",
       "    </tr>\n",
       "    <tr>\n",
       "      <th>3926</th>\n",
       "      <td>archive-2/lgg-mri-segmentation/kaggle_3m/TCGA_...</td>\n",
       "      <td>archive-2/lgg-mri-segmentation/kaggle_3m/TCGA_...</td>\n",
       "      <td>0</td>\n",
       "    </tr>\n",
       "    <tr>\n",
       "      <th>3927</th>\n",
       "      <td>archive-2/lgg-mri-segmentation/kaggle_3m/TCGA_...</td>\n",
       "      <td>archive-2/lgg-mri-segmentation/kaggle_3m/TCGA_...</td>\n",
       "      <td>0</td>\n",
       "    </tr>\n",
       "    <tr>\n",
       "      <th>3928</th>\n",
       "      <td>archive-2/lgg-mri-segmentation/kaggle_3m/TCGA_...</td>\n",
       "      <td>archive-2/lgg-mri-segmentation/kaggle_3m/TCGA_...</td>\n",
       "      <td>0</td>\n",
       "    </tr>\n",
       "  </tbody>\n",
       "</table>\n",
       "<p>3929 rows × 3 columns</p>\n",
       "</div>"
      ],
      "text/plain": [
       "                                                    img  \\\n",
       "0     archive-2/lgg-mri-segmentation/kaggle_3m/TCGA_...   \n",
       "1     archive-2/lgg-mri-segmentation/kaggle_3m/TCGA_...   \n",
       "2     archive-2/lgg-mri-segmentation/kaggle_3m/TCGA_...   \n",
       "3     archive-2/lgg-mri-segmentation/kaggle_3m/TCGA_...   \n",
       "4     archive-2/lgg-mri-segmentation/kaggle_3m/TCGA_...   \n",
       "...                                                 ...   \n",
       "3924  archive-2/lgg-mri-segmentation/kaggle_3m/TCGA_...   \n",
       "3925  archive-2/lgg-mri-segmentation/kaggle_3m/TCGA_...   \n",
       "3926  archive-2/lgg-mri-segmentation/kaggle_3m/TCGA_...   \n",
       "3927  archive-2/lgg-mri-segmentation/kaggle_3m/TCGA_...   \n",
       "3928  archive-2/lgg-mri-segmentation/kaggle_3m/TCGA_...   \n",
       "\n",
       "                                                   mask  label  \n",
       "0     archive-2/lgg-mri-segmentation/kaggle_3m/TCGA_...      0  \n",
       "1     archive-2/lgg-mri-segmentation/kaggle_3m/TCGA_...      0  \n",
       "2     archive-2/lgg-mri-segmentation/kaggle_3m/TCGA_...      0  \n",
       "3     archive-2/lgg-mri-segmentation/kaggle_3m/TCGA_...      0  \n",
       "4     archive-2/lgg-mri-segmentation/kaggle_3m/TCGA_...      0  \n",
       "...                                                 ...    ...  \n",
       "3924  archive-2/lgg-mri-segmentation/kaggle_3m/TCGA_...      0  \n",
       "3925  archive-2/lgg-mri-segmentation/kaggle_3m/TCGA_...      0  \n",
       "3926  archive-2/lgg-mri-segmentation/kaggle_3m/TCGA_...      0  \n",
       "3927  archive-2/lgg-mri-segmentation/kaggle_3m/TCGA_...      0  \n",
       "3928  archive-2/lgg-mri-segmentation/kaggle_3m/TCGA_...      0  \n",
       "\n",
       "[3929 rows x 3 columns]"
      ]
     },
     "execution_count": 7,
     "metadata": {},
     "output_type": "execute_result"
    }
   ],
   "source": [
    "df"
   ]
  },
  {
   "cell_type": "code",
   "execution_count": 8,
   "metadata": {},
   "outputs": [],
   "source": [
    "# downsize the input images\n",
    "\n",
    "import os.path\n",
    "import cv2\n",
    "import numpy as np\n",
    "import random\n",
    "\n",
    "def downsample_and_split(train_size):\n",
    "    images = []\n",
    "    masks = []\n",
    "\n",
    "    # image size\n",
    "    size = 32, 32\n",
    "\n",
    "    # use only tumour images\n",
    "    tumour_df = df[df['label'] == 1]\n",
    "\n",
    "    # Iterate through each tumour image in each subfolder\n",
    "    for index in tumour_df.index:\n",
    "        img = tumour_df['img'][index]\n",
    "        temp_img = cv2.imread(img, cv2.IMREAD_UNCHANGED)\n",
    "\n",
    "        mask = tumour_df['mask'][index]\n",
    "        temp_mask = cv2.imread(mask)\n",
    "\n",
    "        if temp_img is None:\n",
    "            continue\n",
    "\n",
    "        # Resize the images\n",
    "        temp_img = cv2.resize(temp_img, size)\n",
    "        images.append(temp_img)\n",
    "\n",
    "        temp_mask = cv2.resize(temp_mask, size)\n",
    "        masks.append(temp_mask)\n",
    "\n",
    "    \n",
    "    # Convert to a numpy array\n",
    "    images = np.array(images)\n",
    "\n",
    "    \n",
    "    # Normalize the images\n",
    "    images = images.astype('float32')/255.0\n",
    "\n",
    "    #np.random.shuffle(images)\n",
    "\n",
    "    images_train = images[:int((images.shape[0]+1)*train_size)]\n",
    "    images_test = images[int((images.shape[0]+1)*train_size):]\n",
    "\n",
    "    masks = np.array(masks)\n",
    "\n",
    "    # Normalize the masks\n",
    "    masks = masks.astype('float32')/255.0\n",
    "\n",
    "    #np.random.shuffle(masks)\n",
    "    masks_train = masks[:int((masks.shape[0]+1)*train_size)]\n",
    "    masks_test = masks[int((masks.shape[0]+1)*train_size):]\n",
    "\n",
    "    return images_train, masks_train, images_test, masks_test\n"
   ]
  },
  {
   "cell_type": "code",
   "execution_count": 9,
   "metadata": {},
   "outputs": [
    {
     "name": "stdout",
     "output_type": "stream",
     "text": [
      "Model: \"model\"\n",
      "__________________________________________________________________________________________________\n",
      " Layer (type)                   Output Shape         Param #     Connected to                     \n",
      "==================================================================================================\n",
      " input_1 (InputLayer)           [(None, 32, 32, 3)]  0           []                               \n",
      "                                                                                                  \n",
      " conv2d (Conv2D)                (None, 32, 32, 32)   896         ['input_1[0][0]']                \n",
      "                                                                                                  \n",
      " conv2d_1 (Conv2D)              (None, 32, 32, 32)   9248        ['conv2d[0][0]']                 \n",
      "                                                                                                  \n",
      " max_pooling2d (MaxPooling2D)   (None, 16, 16, 32)   0           ['conv2d_1[0][0]']               \n",
      "                                                                                                  \n",
      " conv2d_2 (Conv2D)              (None, 16, 16, 64)   18496       ['max_pooling2d[0][0]']          \n",
      "                                                                                                  \n",
      " conv2d_3 (Conv2D)              (None, 16, 16, 64)   36928       ['conv2d_2[0][0]']               \n",
      "                                                                                                  \n",
      " max_pooling2d_1 (MaxPooling2D)  (None, 8, 8, 64)    0           ['conv2d_3[0][0]']               \n",
      "                                                                                                  \n",
      " conv2d_4 (Conv2D)              (None, 8, 8, 128)    73856       ['max_pooling2d_1[0][0]']        \n",
      "                                                                                                  \n",
      " conv2d_5 (Conv2D)              (None, 8, 8, 128)    147584      ['conv2d_4[0][0]']               \n",
      "                                                                                                  \n",
      " max_pooling2d_2 (MaxPooling2D)  (None, 4, 4, 128)   0           ['conv2d_5[0][0]']               \n",
      "                                                                                                  \n",
      " conv2d_6 (Conv2D)              (None, 4, 4, 256)    295168      ['max_pooling2d_2[0][0]']        \n",
      "                                                                                                  \n",
      " conv2d_7 (Conv2D)              (None, 4, 4, 256)    590080      ['conv2d_6[0][0]']               \n",
      "                                                                                                  \n",
      " dropout (Dropout)              (None, 4, 4, 256)    0           ['conv2d_7[0][0]']               \n",
      "                                                                                                  \n",
      " max_pooling2d_3 (MaxPooling2D)  (None, 2, 2, 256)   0           ['dropout[0][0]']                \n",
      "                                                                                                  \n",
      " conv2d_8 (Conv2D)              (None, 2, 2, 512)    1180160     ['max_pooling2d_3[0][0]']        \n",
      "                                                                                                  \n",
      " conv2d_9 (Conv2D)              (None, 2, 2, 512)    2359808     ['conv2d_8[0][0]']               \n",
      "                                                                                                  \n",
      " dropout_1 (Dropout)            (None, 2, 2, 512)    0           ['conv2d_9[0][0]']               \n",
      "                                                                                                  \n",
      " up_sampling2d (UpSampling2D)   (None, 4, 4, 512)    0           ['dropout_1[0][0]']              \n",
      "                                                                                                  \n",
      " conv2d_10 (Conv2D)             (None, 4, 4, 256)    524544      ['up_sampling2d[0][0]']          \n",
      "                                                                                                  \n",
      " concatenate (Concatenate)      (None, 4, 4, 512)    0           ['dropout[0][0]',                \n",
      "                                                                  'conv2d_10[0][0]']              \n",
      "                                                                                                  \n",
      " conv2d_11 (Conv2D)             (None, 4, 4, 256)    1179904     ['concatenate[0][0]']            \n",
      "                                                                                                  \n",
      " conv2d_12 (Conv2D)             (None, 4, 4, 256)    590080      ['conv2d_11[0][0]']              \n",
      "                                                                                                  \n",
      " up_sampling2d_1 (UpSampling2D)  (None, 8, 8, 256)   0           ['conv2d_12[0][0]']              \n",
      "                                                                                                  \n",
      " conv2d_13 (Conv2D)             (None, 8, 8, 128)    131200      ['up_sampling2d_1[0][0]']        \n",
      "                                                                                                  \n",
      " concatenate_1 (Concatenate)    (None, 8, 8, 256)    0           ['conv2d_5[0][0]',               \n",
      "                                                                  'conv2d_13[0][0]']              \n",
      "                                                                                                  \n",
      " conv2d_14 (Conv2D)             (None, 8, 8, 128)    295040      ['concatenate_1[0][0]']          \n",
      "                                                                                                  \n",
      " conv2d_15 (Conv2D)             (None, 8, 8, 128)    147584      ['conv2d_14[0][0]']              \n",
      "                                                                                                  \n",
      " up_sampling2d_2 (UpSampling2D)  (None, 16, 16, 128)  0          ['conv2d_15[0][0]']              \n",
      "                                                                                                  \n",
      " conv2d_16 (Conv2D)             (None, 16, 16, 64)   32832       ['up_sampling2d_2[0][0]']        \n",
      "                                                                                                  \n",
      " concatenate_2 (Concatenate)    (None, 16, 16, 128)  0           ['conv2d_3[0][0]',               \n",
      "                                                                  'conv2d_16[0][0]']              \n",
      "                                                                                                  \n",
      " conv2d_17 (Conv2D)             (None, 16, 16, 64)   73792       ['concatenate_2[0][0]']          \n",
      "                                                                                                  \n",
      " conv2d_18 (Conv2D)             (None, 16, 16, 64)   36928       ['conv2d_17[0][0]']              \n",
      "                                                                                                  \n",
      " up_sampling2d_3 (UpSampling2D)  (None, 32, 32, 64)  0           ['conv2d_18[0][0]']              \n",
      "                                                                                                  \n",
      " conv2d_19 (Conv2D)             (None, 32, 32, 32)   8224        ['up_sampling2d_3[0][0]']        \n",
      "                                                                                                  \n",
      " concatenate_3 (Concatenate)    (None, 32, 32, 64)   0           ['conv2d_1[0][0]',               \n",
      "                                                                  'conv2d_19[0][0]']              \n",
      "                                                                                                  \n",
      " conv2d_20 (Conv2D)             (None, 32, 32, 32)   18464       ['concatenate_3[0][0]']          \n",
      "                                                                                                  \n",
      " conv2d_21 (Conv2D)             (None, 32, 32, 32)   9248        ['conv2d_20[0][0]']              \n",
      "                                                                                                  \n",
      " conv2d_22 (Conv2D)             (None, 32, 32, 2)    578         ['conv2d_21[0][0]']              \n",
      "                                                                                                  \n",
      " conv2d_23 (Conv2D)             (None, 32, 32, 3)    9           ['conv2d_22[0][0]']              \n",
      "                                                                                                  \n",
      "==================================================================================================\n",
      "Total params: 7,760,651\n",
      "Trainable params: 7,760,651\n",
      "Non-trainable params: 0\n",
      "__________________________________________________________________________________________________\n"
     ]
    }
   ],
   "source": [
    "import os\n",
    "import numpy as np\n",
    "import tensorflow as tf\n",
    "from tensorflow.keras.layers import Input, Conv2D, MaxPooling2D, Dropout, UpSampling2D, concatenate\n",
    "from tensorflow.keras.models import Model\n",
    "from tensorflow.keras.preprocessing.image import ImageDataGenerator\n",
    "\n",
    "# Define the input and output shapes\n",
    "input_shape = (32, 32, 3)\n",
    "output_shape = (32, 32, 3)\n",
    "\n",
    "# Define the U-Net architecture\n",
    "inputs = Input(input_shape)\n",
    "conv1 = Conv2D(32, 3, activation='relu', padding='same')(inputs)\n",
    "conv1 = Conv2D(32, 3, activation='relu', padding='same')(conv1)\n",
    "pool1 = MaxPooling2D(pool_size=(2, 2))(conv1)\n",
    "\n",
    "conv2 = Conv2D(64, 3, activation='relu', padding='same')(pool1)\n",
    "conv2 = Conv2D(64, 3, activation='relu', padding='same')(conv2)\n",
    "pool2 = MaxPooling2D(pool_size=(2, 2))(conv2)\n",
    "\n",
    "conv3 = Conv2D(128, 3, activation='relu', padding='same')(pool2)\n",
    "conv3 = Conv2D(128, 3, activation='relu', padding='same')(conv3)\n",
    "pool3 = MaxPooling2D(pool_size=(2, 2))(conv3)\n",
    "\n",
    "conv4 = Conv2D(256, 3, activation='relu', padding='same')(pool3)\n",
    "conv4 = Conv2D(256, 3, activation='relu', padding='same')(conv4)\n",
    "drop4 = Dropout(0.5)(conv4)\n",
    "pool4 = MaxPooling2D(pool_size=(2, 2))(drop4)\n",
    "\n",
    "conv5 = Conv2D(512, 3, activation='relu', padding='same')(pool4)\n",
    "conv5 = Conv2D(512, 3, activation='relu', padding='same')(conv5)\n",
    "drop5 = Dropout(0.5)(conv5)\n",
    "\n",
    "up6 = Conv2D(256, 2, activation='relu', padding='same')(UpSampling2D(size=(2, 2))(drop5))\n",
    "merge6 = concatenate([drop4, up6], axis=3)\n",
    "conv6 = Conv2D(256, 3, activation='relu', padding='same')(merge6)\n",
    "conv6 = Conv2D(256, 3, activation='relu', padding='same')(conv6)\n",
    "\n",
    "up7 = Conv2D(128, 2, activation='relu', padding='same')(UpSampling2D(size=(2, 2))(conv6))\n",
    "merge7 = concatenate([conv3, up7], axis=3)\n",
    "conv7 = Conv2D(128, 3, activation='relu', padding='same')(merge7)\n",
    "conv7 = Conv2D(128, 3, activation='relu', padding='same')(conv7)\n",
    "\n",
    "up8 = Conv2D(64, 2, activation='relu', padding='same')(UpSampling2D(size=(2, 2))(conv7))\n",
    "merge8 = concatenate([conv2, up8], axis=3)\n",
    "conv8 = Conv2D(64, 3, activation='relu', padding='same')(merge8)\n",
    "conv8 = Conv2D(64, 3, activation='relu', padding='same')(conv8)\n",
    "\n",
    "up9 = Conv2D(32, 2, activation='relu', padding='same')(UpSampling2D(size=(2, 2))(conv8))\n",
    "merge9 = concatenate([conv1, up9], axis=3)\n",
    "conv9 = Conv2D(32, 3, activation='relu', padding='same')(merge9)\n",
    "conv9 = Conv2D(32, 3, activation='relu', padding='same')(conv9)\n",
    "conv9 = Conv2D(2, 3, activation='relu', padding='same')(conv9)\n",
    "conv10 = Conv2D(3, 1, activation='sigmoid')(conv9)\n",
    "\n",
    "model = Model(inputs=[inputs], outputs=[conv10])\n",
    "\n",
    "model.summary()"
   ]
  },
  {
   "cell_type": "code",
   "execution_count": 16,
   "metadata": {},
   "outputs": [],
   "source": [
    "X_train, Y_train, x_test, y_test = downsample_and_split(0.8)  # function to load and preprocess dataset and mask"
   ]
  },
  {
   "cell_type": "code",
   "execution_count": 28,
   "metadata": {},
   "outputs": [
    {
     "name": "stdout",
     "output_type": "stream",
     "text": [
      "Epoch 1/20\n",
      "66/66 [==============================] - 33s 415ms/step - loss: 0.1517 - dice_coefficient: 0.8483 - val_loss: 0.3854 - val_dice_coefficient: 0.6306\n",
      "Epoch 2/20\n",
      "66/66 [==============================] - 27s 407ms/step - loss: 0.1453 - dice_coefficient: 0.8547 - val_loss: 0.3889 - val_dice_coefficient: 0.6284\n",
      "Epoch 3/20\n",
      "66/66 [==============================] - 27s 408ms/step - loss: 0.1429 - dice_coefficient: 0.8571 - val_loss: 0.3879 - val_dice_coefficient: 0.6278\n",
      "Epoch 4/20\n",
      "66/66 [==============================] - 27s 407ms/step - loss: 0.1397 - dice_coefficient: 0.8603 - val_loss: 0.3915 - val_dice_coefficient: 0.6277\n",
      "Epoch 5/20\n",
      "66/66 [==============================] - 27s 415ms/step - loss: 0.1393 - dice_coefficient: 0.8607 - val_loss: 0.3832 - val_dice_coefficient: 0.6334\n",
      "Epoch 6/20\n",
      "66/66 [==============================] - 28s 432ms/step - loss: 0.1352 - dice_coefficient: 0.8648 - val_loss: 0.3915 - val_dice_coefficient: 0.6234\n",
      "Epoch 7/20\n",
      "66/66 [==============================] - 28s 420ms/step - loss: 0.1312 - dice_coefficient: 0.8688 - val_loss: 0.3901 - val_dice_coefficient: 0.6281\n",
      "Epoch 8/20\n",
      "66/66 [==============================] - 28s 420ms/step - loss: 0.1315 - dice_coefficient: 0.8685 - val_loss: 0.3816 - val_dice_coefficient: 0.6384\n",
      "Epoch 9/20\n",
      "66/66 [==============================] - 27s 408ms/step - loss: 0.1280 - dice_coefficient: 0.8719 - val_loss: 0.3846 - val_dice_coefficient: 0.6359\n",
      "Epoch 10/20\n",
      "66/66 [==============================] - 27s 403ms/step - loss: 0.1251 - dice_coefficient: 0.8748 - val_loss: 0.3760 - val_dice_coefficient: 0.6412\n",
      "Epoch 11/20\n",
      "66/66 [==============================] - 27s 415ms/step - loss: 0.1264 - dice_coefficient: 0.8736 - val_loss: 0.3877 - val_dice_coefficient: 0.6294\n",
      "Epoch 12/20\n",
      "66/66 [==============================] - 27s 406ms/step - loss: 0.1263 - dice_coefficient: 0.8737 - val_loss: 0.3764 - val_dice_coefficient: 0.6432\n",
      "Epoch 13/20\n",
      "66/66 [==============================] - 27s 404ms/step - loss: 0.1244 - dice_coefficient: 0.8756 - val_loss: 0.3807 - val_dice_coefficient: 0.6399\n",
      "Epoch 14/20\n",
      "66/66 [==============================] - 27s 401ms/step - loss: 0.1206 - dice_coefficient: 0.8794 - val_loss: 0.3817 - val_dice_coefficient: 0.6391\n",
      "Epoch 15/20\n",
      "66/66 [==============================] - 27s 407ms/step - loss: 0.1223 - dice_coefficient: 0.8777 - val_loss: 0.3928 - val_dice_coefficient: 0.6272\n",
      "Epoch 16/20\n",
      "66/66 [==============================] - 27s 407ms/step - loss: 0.1197 - dice_coefficient: 0.8803 - val_loss: 0.3764 - val_dice_coefficient: 0.6428\n",
      "Epoch 17/20\n",
      "66/66 [==============================] - 27s 407ms/step - loss: 0.1176 - dice_coefficient: 0.8824 - val_loss: 0.3818 - val_dice_coefficient: 0.6382\n",
      "Epoch 18/20\n",
      "66/66 [==============================] - 27s 412ms/step - loss: 0.1133 - dice_coefficient: 0.8868 - val_loss: 0.3710 - val_dice_coefficient: 0.6474\n",
      "Epoch 19/20\n",
      "66/66 [==============================] - 27s 410ms/step - loss: 0.1146 - dice_coefficient: 0.8855 - val_loss: 0.3771 - val_dice_coefficient: 0.6452\n",
      "Epoch 20/20\n",
      "66/66 [==============================] - 27s 405ms/step - loss: 0.1160 - dice_coefficient: 0.8840 - val_loss: 0.3772 - val_dice_coefficient: 0.6437\n"
     ]
    },
    {
     "data": {
      "text/plain": [
       "<keras.callbacks.History at 0x7faa9537c6d0>"
      ]
     },
     "execution_count": 28,
     "metadata": {},
     "output_type": "execute_result"
    }
   ],
   "source": [
    "from tensorflow.keras import backend as K\n",
    "\n",
    "def dice_coefficient(y_true, y_pred, smooth=100):\n",
    "    y_truef=K.flatten(y_true)\n",
    "    y_predf=K.flatten(y_pred)\n",
    "    And=K.sum(y_truef* y_predf)\n",
    "    return((2* And + smooth) / (K.sum(y_truef) + K.sum(y_predf) + smooth))\n",
    "\n",
    "def dice_coefficient_loss(y_true, y_pred):\n",
    "    return 1 - dice_coefficient(y_true, y_pred)\n",
    "\n",
    "model.compile(optimizer='adam', loss=dice_coefficient_loss, metrics=[dice_coefficient])\n",
    "model.fit(X_train, Y_train, batch_size=15, epochs=20, validation_split=0.1)"
   ]
  },
  {
   "cell_type": "code",
   "execution_count": 29,
   "metadata": {},
   "outputs": [
    {
     "name": "stdout",
     "output_type": "stream",
     "text": [
      "9/9 [==============================] - 1s 120ms/step\n"
     ]
    }
   ],
   "source": [
    "Y_pred = model.predict(x_test)"
   ]
  },
  {
   "cell_type": "code",
   "execution_count": 30,
   "metadata": {},
   "outputs": [
    {
     "data": {
      "text/plain": [
       "Text(0.5, 1.0, 'Pred Image 105')"
      ]
     },
     "execution_count": 30,
     "metadata": {},
     "output_type": "execute_result"
    },
    {
     "data": {
      "image/png": "[encoded data removed]",
      "text/plain": [
       "<Figure size 1152x576 with 10 Axes>"
      ]
     },
     "metadata": {
      "needs_background": "light"
     },
     "output_type": "display_data"
    }
   ],
   "source": [
    "plt.figure(figsize=(16,8))\n",
    "plt.subplot(251)\n",
    "# plt.imshow(Y_pred_scaled[5])\n",
    "plt.imshow(Y_pred[5,:,:,0],cmap=\"gray\")\n",
    "plt.title('Pred Image 5')\n",
    "plt.subplot(252)\n",
    "plt.imshow(Y_pred[25,:,:,0],cmap=\"gray\")\n",
    "plt.title('Pred Image 25')\n",
    "plt.subplot(253)\n",
    "plt.imshow(Y_pred[35,:,:,0],cmap=\"gray\")\n",
    "plt.title('Pred Image 35')\n",
    "plt.subplot(254)\n",
    "plt.imshow(Y_pred[45,:,:,0],cmap=\"gray\")\n",
    "plt.title('Pred Image 45')\n",
    "plt.subplot(255)\n",
    "plt.imshow(Y_pred[55,:,:,0],cmap=\"gray\")\n",
    "plt.title('Pred Image 55')\n",
    "plt.subplot(256)\n",
    "plt.imshow(Y_pred[65,:,:,0],cmap=\"gray\")\n",
    "plt.title('Pred Image 65')\n",
    "plt.subplot(257)\n",
    "plt.imshow(Y_pred[75,:,:,0],cmap=\"gray\")\n",
    "plt.title('Pred Image 75')\n",
    "plt.subplot(258)\n",
    "plt.imshow(Y_pred[85,:,:,0],cmap=\"gray\")\n",
    "plt.title('Pred Image 85')\n",
    "plt.subplot(259)\n",
    "plt.imshow(Y_pred[95,:,:,0],cmap=\"gray\")\n",
    "plt.title('Pred Image 95')\n",
    "plt.subplot(2,5,10)\n",
    "plt.imshow(Y_pred[105,:,:,0],cmap=\"gray\")\n",
    "plt.title('Pred Image 105')"
   ]
  },
  {
   "cell_type": "code",
   "execution_count": 31,
   "metadata": {},
   "outputs": [
    {
     "data": {
      "text/plain": [
       "Text(0.5, 1.0, 'Test Image 105')"
      ]
     },
     "execution_count": 31,
     "metadata": {},
     "output_type": "execute_result"
    },
    {
     "data": {
      "image/png": "[encoded data removed]",
      "text/plain": [
       "<Figure size 1152x576 with 10 Axes>"
      ]
     },
     "metadata": {
      "needs_background": "light"
     },
     "output_type": "display_data"
    }
   ],
   "source": [
    "plt.figure(figsize=(16,8))\n",
    "plt.subplot(251)\n",
    "plt.imshow(x_test[5])\n",
    "plt.title('Test Image 5')\n",
    "plt.subplot(252)\n",
    "plt.imshow(x_test[25])\n",
    "plt.title('Test Image 25')\n",
    "plt.subplot(253)\n",
    "plt.imshow(x_test[35])\n",
    "plt.title('Test Image 35')\n",
    "plt.subplot(254)\n",
    "plt.imshow(x_test[45])\n",
    "plt.title('Test Image 45')\n",
    "plt.subplot(255)\n",
    "plt.imshow(x_test[55])\n",
    "plt.title('Test Image 55')\n",
    "plt.subplot(256)\n",
    "plt.imshow(x_test[65])\n",
    "plt.title('Test Image 65')\n",
    "plt.subplot(257)\n",
    "plt.imshow(x_test[75])\n",
    "plt.title('Test Image 75')\n",
    "plt.subplot(258)\n",
    "plt.imshow(x_test[85])\n",
    "plt.title('Test Image 85')\n",
    "plt.subplot(259)\n",
    "plt.imshow(x_test[95])\n",
    "plt.title('Test Image 95')\n",
    "plt.subplot(2,5,10)\n",
    "plt.imshow(x_test[105])\n",
    "plt.title('Test Image 105')"
   ]
  },
  {
   "cell_type": "code",
   "execution_count": 32,
   "metadata": {},
   "outputs": [
    {
     "data": {
      "text/plain": [
       "Text(0.5, 1.0, 'Test Mask 105')"
      ]
     },
     "execution_count": 32,
     "metadata": {},
     "output_type": "execute_result"
    },
    {
     "data": {
      "image/png": "[encoded data removed]",
      "text/plain": [
       "<Figure size 1152x576 with 10 Axes>"
      ]
     },
     "metadata": {
      "needs_background": "light"
     },
     "output_type": "display_data"
    }
   ],
   "source": [
    "plt.figure(figsize=(16,8))\n",
    "plt.subplot(251)\n",
    "plt.imshow(y_test[5])\n",
    "plt.title('Test Mask 5')\n",
    "plt.subplot(252)\n",
    "plt.imshow(y_test[25])\n",
    "plt.title('Test Mask 25')\n",
    "plt.subplot(253)\n",
    "plt.imshow(y_test[35])\n",
    "plt.title('Test Mask 35')\n",
    "plt.subplot(254)\n",
    "plt.imshow(y_test[45])\n",
    "plt.title('Test Mask 45')\n",
    "plt.subplot(255)\n",
    "plt.imshow(y_test[55])\n",
    "plt.title('Test Mask 55')\n",
    "plt.subplot(256)\n",
    "plt.imshow(y_test[65])\n",
    "plt.title('Test Mask 65')\n",
    "plt.subplot(257)\n",
    "plt.imshow(y_test[75])\n",
    "plt.title('Test Mask 75')\n",
    "plt.subplot(258)\n",
    "plt.imshow(y_test[85])\n",
    "plt.title('Test Mask 85')\n",
    "plt.subplot(259)\n",
    "plt.imshow(y_test[95])\n",
    "plt.title('Test Mask 95')\n",
    "plt.subplot(2,5,10)\n",
    "plt.imshow(y_test[105])\n",
    "plt.title('Test Mask 105')"
   ]
  }
 ],
 "metadata": {
  "kernelspec": {
   "display_name": "base",
   "language": "python",
   "name": "python3"
  },
  "language_info": {
   "codemirror_mode": {
    "name": "ipython",
    "version": 3
   },
   "file_extension": ".py",
   "mimetype": "text/x-python",
   "name": "python",
   "nbconvert_exporter": "python",
   "pygments_lexer": "ipython3",
   "version": "3.7.6"
  },
  "orig_nbformat": 4,
  "vscode": {
   "interpreter": {
    "hash": "873bb8f333cfc5bf5f095512c3cb10b91d904deb4ba0659db4d526ee9214ee1c"
   }
  }
 },
 "nbformat": 4,
 "nbformat_minor": 2
}
