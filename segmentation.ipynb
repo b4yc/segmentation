{
 "cells": [
  {
   "attachments": {},
   "cell_type": "markdown",
   "metadata": {},
   "source": [
    "Imports"
   ]
  },
  {
   "cell_type": "code",
   "execution_count": 1,
   "metadata": {},
   "outputs": [],
   "source": [
    "import sys\n",
    "import os\n",
    "import glob\n",
    "import random\n",
    "import time\n",
    "import numpy as np\n",
    "import pandas as pd\n",
    "import cv2\n",
    "import matplotlib.pyplot as plt\n",
    "import seaborn as sns\n",
    "from sklearn.impute import KNNImputer\n",
    "from sklearn.model_selection import train_test_split"
   ]
  },
  {
   "attachments": {},
   "cell_type": "markdown",
   "metadata": {},
   "source": [
    "Read Files"
   ]
  },
  {
   "cell_type": "code",
   "execution_count": 2,
   "metadata": {},
   "outputs": [],
   "source": [
    "files = []\n",
    "path = 'archive-2/lgg-mri-segmentation/kaggle_3m/'\n",
    "\n",
    "# the ground truth are files marked with 'mask'\n",
    "mask_files = glob.glob(path + '*/*_mask*')\n",
    "data = pd.read_csv(path + \"data.csv\")\n",
    "for i in mask_files:\n",
    "    # for the truthful mask files, retrieve the blank image\n",
    "    files.append(i.replace('_mask',''))"
   ]
  },
  {
   "attachments": {},
   "cell_type": "markdown",
   "metadata": {},
   "source": [
    "Preprocess Data"
   ]
  },
  {
   "cell_type": "code",
   "execution_count": 3,
   "metadata": {},
   "outputs": [
    {
     "name": "stdout",
     "output_type": "stream",
     "text": [
      "Number of non tumours: 2556\n",
      "Number of tumours: 1373\n"
     ]
    }
   ],
   "source": [
    "df = pd.DataFrame()\n",
    "df['img']= files\n",
    "df['mask']= mask_files\n",
    "\n",
    "# label the classification from the masked files\n",
    "def labels(mask_path):\n",
    "    value = np.max(cv2.imread(mask_path))\n",
    "    if value > 0:\n",
    "        return 1\n",
    "    else: return 0\n",
    "\n",
    "df['label'] = df['mask'].apply(labels)\n",
    "print(\"Number of non tumours: \" + str(df.label.value_counts()[0]))\n",
    "print(\"Number of tumours: \" + str(df.label.value_counts()[1]))\n"
   ]
  },
  {
   "attachments": {},
   "cell_type": "markdown",
   "metadata": {},
   "source": [
    "Since the number of classifications are somewhat evenly distributed, we can directly use the whole dataset."
   ]
  },
  {
   "attachments": {},
   "cell_type": "markdown",
   "metadata": {},
   "source": [
    "Group Dataset By Patients"
   ]
  },
  {
   "cell_type": "code",
   "execution_count": 4,
   "metadata": {},
   "outputs": [
    {
     "ename": "KeyError",
     "evalue": "'TCGA_CS_4941'",
     "output_type": "error",
     "traceback": [
      "\u001b[1;31m---------------------------------------------------------------------------\u001b[0m",
      "\u001b[1;31mKeyError\u001b[0m                                  Traceback (most recent call last)",
      "\u001b[1;32md:\\Random\\segmentation\\segmentation.ipynb Cell 9\u001b[0m in \u001b[0;36m1\n\u001b[0;32m     <a href='vscode-notebook-cell:/d%3A/Random/segmentation/segmentation.ipynb#X11sZmlsZQ%3D%3D?line=10'>11</a>\u001b[0m l \u001b[39m=\u001b[39m k\u001b[39m.\u001b[39msize()\n\u001b[0;32m     <a href='vscode-notebook-cell:/d%3A/Random/segmentation/segmentation.ipynb#X11sZmlsZQ%3D%3D?line=11'>12</a>\u001b[0m rows, cols \u001b[39m=\u001b[39m \u001b[39m5\u001b[39m, \u001b[39m5\u001b[39m\n\u001b[1;32m---> <a href='vscode-notebook-cell:/d%3A/Random/segmentation/segmentation.ipynb#X11sZmlsZQ%3D%3D?line=12'>13</a>\u001b[0m l \u001b[39m=\u001b[39m k\u001b[39m.\u001b[39;49mget_group(\u001b[39m'\u001b[39;49m\u001b[39mTCGA_CS_4941\u001b[39;49m\u001b[39m'\u001b[39;49m)\n",
      "File \u001b[1;32mc:\\Python38\\lib\\site-packages\\pandas\\core\\groupby\\groupby.py:845\u001b[0m, in \u001b[0;36mBaseGroupBy.get_group\u001b[1;34m(self, name, obj)\u001b[0m\n\u001b[0;32m    843\u001b[0m inds \u001b[39m=\u001b[39m \u001b[39mself\u001b[39m\u001b[39m.\u001b[39m_get_index(name)\n\u001b[0;32m    844\u001b[0m \u001b[39mif\u001b[39;00m \u001b[39mnot\u001b[39;00m \u001b[39mlen\u001b[39m(inds):\n\u001b[1;32m--> 845\u001b[0m     \u001b[39mraise\u001b[39;00m \u001b[39mKeyError\u001b[39;00m(name)\n\u001b[0;32m    847\u001b[0m \u001b[39mreturn\u001b[39;00m obj\u001b[39m.\u001b[39m_take_with_is_copy(inds, axis\u001b[39m=\u001b[39m\u001b[39mself\u001b[39m\u001b[39m.\u001b[39maxis)\n",
      "\u001b[1;31mKeyError\u001b[0m: 'TCGA_CS_4941'"
     ]
    }
   ],
   "source": [
    "# group by patients\n",
    "\n",
    "def path(x):\n",
    "  y = x.split(\"/\")[-1]\n",
    "  z = y.split(\".\")[0]\n",
    "  z1 = z.split(\"_\")\n",
    "  return \"_\".join(z1[:-2])\n",
    "\n",
    "df['Patient'] = df.img.apply(path)\n",
    "k = df.groupby(df.Patient)\n",
    "l = k.size()\n",
    "rows, cols = 5, 5\n",
    "l = k.get_group('TCGA_CS_4941')\n"
   ]
  },
  {
   "attachments": {},
   "cell_type": "markdown",
   "metadata": {},
   "source": [
    "Load an image and it's corresponding mask for one patient"
   ]
  },
  {
   "cell_type": "code",
   "execution_count": 5,
   "metadata": {},
   "outputs": [
    {
     "ename": "KeyError",
     "evalue": "'img'",
     "output_type": "error",
     "traceback": [
      "\u001b[1;31m---------------------------------------------------------------------------\u001b[0m",
      "\u001b[1;31mKeyError\u001b[0m                                  Traceback (most recent call last)",
      "File \u001b[1;32mc:\\Python38\\lib\\site-packages\\pandas\\core\\indexes\\base.py:3080\u001b[0m, in \u001b[0;36mIndex.get_loc\u001b[1;34m(self, key, method, tolerance)\u001b[0m\n\u001b[0;32m   3079\u001b[0m \u001b[39mtry\u001b[39;00m:\n\u001b[1;32m-> 3080\u001b[0m     \u001b[39mreturn\u001b[39;00m \u001b[39mself\u001b[39;49m\u001b[39m.\u001b[39;49m_engine\u001b[39m.\u001b[39;49mget_loc(casted_key)\n\u001b[0;32m   3081\u001b[0m \u001b[39mexcept\u001b[39;00m \u001b[39mKeyError\u001b[39;00m \u001b[39mas\u001b[39;00m err:\n",
      "File \u001b[1;32mpandas\\_libs\\index.pyx:70\u001b[0m, in \u001b[0;36mpandas._libs.index.IndexEngine.get_loc\u001b[1;34m()\u001b[0m\n",
      "File \u001b[1;32mpandas\\_libs\\index.pyx:101\u001b[0m, in \u001b[0;36mpandas._libs.index.IndexEngine.get_loc\u001b[1;34m()\u001b[0m\n",
      "File \u001b[1;32mpandas\\_libs\\hashtable_class_helper.pxi:4554\u001b[0m, in \u001b[0;36mpandas._libs.hashtable.PyObjectHashTable.get_item\u001b[1;34m()\u001b[0m\n",
      "File \u001b[1;32mpandas\\_libs\\hashtable_class_helper.pxi:4562\u001b[0m, in \u001b[0;36mpandas._libs.hashtable.PyObjectHashTable.get_item\u001b[1;34m()\u001b[0m\n",
      "\u001b[1;31mKeyError\u001b[0m: 'img'",
      "\nThe above exception was the direct cause of the following exception:\n",
      "\u001b[1;31mKeyError\u001b[0m                                  Traceback (most recent call last)",
      "\u001b[1;32md:\\Random\\segmentation\\segmentation.ipynb Cell 11\u001b[0m in \u001b[0;36m4\n\u001b[0;32m      <a href='vscode-notebook-cell:/d%3A/Random/segmentation/segmentation.ipynb#X13sZmlsZQ%3D%3D?line=0'>1</a>\u001b[0m fig \u001b[39m=\u001b[39m plt\u001b[39m.\u001b[39mfigure(figsize\u001b[39m=\u001b[39m(\u001b[39m16\u001b[39m, \u001b[39m16\u001b[39m))\n\u001b[0;32m      <a href='vscode-notebook-cell:/d%3A/Random/segmentation/segmentation.ipynb#X13sZmlsZQ%3D%3D?line=2'>3</a>\u001b[0m plt\u001b[39m.\u001b[39msubplot(\u001b[39m121\u001b[39m)\n\u001b[1;32m----> <a href='vscode-notebook-cell:/d%3A/Random/segmentation/segmentation.ipynb#X13sZmlsZQ%3D%3D?line=3'>4</a>\u001b[0m img \u001b[39m=\u001b[39m cv2\u001b[39m.\u001b[39mimread(l[\u001b[39m'\u001b[39;49m\u001b[39mimg\u001b[39;49m\u001b[39m'\u001b[39;49m]\u001b[39m.\u001b[39miloc[\u001b[39m0\u001b[39m], cv2\u001b[39m.\u001b[39mIMREAD_UNCHANGED)\n\u001b[0;32m      <a href='vscode-notebook-cell:/d%3A/Random/segmentation/segmentation.ipynb#X13sZmlsZQ%3D%3D?line=4'>5</a>\u001b[0m plt\u001b[39m.\u001b[39mimshow(img)\n\u001b[0;32m      <a href='vscode-notebook-cell:/d%3A/Random/segmentation/segmentation.ipynb#X13sZmlsZQ%3D%3D?line=5'>6</a>\u001b[0m plt\u001b[39m.\u001b[39mtitle(\u001b[39m\"\u001b[39m\u001b[39mImage\u001b[39m\u001b[39m\"\u001b[39m)\n",
      "File \u001b[1;32mc:\\Python38\\lib\\site-packages\\pandas\\core\\series.py:853\u001b[0m, in \u001b[0;36mSeries.__getitem__\u001b[1;34m(self, key)\u001b[0m\n\u001b[0;32m    850\u001b[0m     \u001b[39mreturn\u001b[39;00m \u001b[39mself\u001b[39m\u001b[39m.\u001b[39m_values[key]\n\u001b[0;32m    852\u001b[0m \u001b[39melif\u001b[39;00m key_is_scalar:\n\u001b[1;32m--> 853\u001b[0m     \u001b[39mreturn\u001b[39;00m \u001b[39mself\u001b[39;49m\u001b[39m.\u001b[39;49m_get_value(key)\n\u001b[0;32m    855\u001b[0m \u001b[39mif\u001b[39;00m is_hashable(key):\n\u001b[0;32m    856\u001b[0m     \u001b[39m# Otherwise index.get_value will raise InvalidIndexError\u001b[39;00m\n\u001b[0;32m    857\u001b[0m     \u001b[39mtry\u001b[39;00m:\n\u001b[0;32m    858\u001b[0m         \u001b[39m# For labels that don't resolve as scalars like tuples and frozensets\u001b[39;00m\n",
      "File \u001b[1;32mc:\\Python38\\lib\\site-packages\\pandas\\core\\series.py:961\u001b[0m, in \u001b[0;36mSeries._get_value\u001b[1;34m(self, label, takeable)\u001b[0m\n\u001b[0;32m    958\u001b[0m     \u001b[39mreturn\u001b[39;00m \u001b[39mself\u001b[39m\u001b[39m.\u001b[39m_values[label]\n\u001b[0;32m    960\u001b[0m \u001b[39m# Similar to Index.get_value, but we do not fall back to positional\u001b[39;00m\n\u001b[1;32m--> 961\u001b[0m loc \u001b[39m=\u001b[39m \u001b[39mself\u001b[39;49m\u001b[39m.\u001b[39;49mindex\u001b[39m.\u001b[39;49mget_loc(label)\n\u001b[0;32m    962\u001b[0m \u001b[39mreturn\u001b[39;00m \u001b[39mself\u001b[39m\u001b[39m.\u001b[39mindex\u001b[39m.\u001b[39m_get_values_for_loc(\u001b[39mself\u001b[39m, loc, label)\n",
      "File \u001b[1;32mc:\\Python38\\lib\\site-packages\\pandas\\core\\indexes\\base.py:3082\u001b[0m, in \u001b[0;36mIndex.get_loc\u001b[1;34m(self, key, method, tolerance)\u001b[0m\n\u001b[0;32m   3080\u001b[0m         \u001b[39mreturn\u001b[39;00m \u001b[39mself\u001b[39m\u001b[39m.\u001b[39m_engine\u001b[39m.\u001b[39mget_loc(casted_key)\n\u001b[0;32m   3081\u001b[0m     \u001b[39mexcept\u001b[39;00m \u001b[39mKeyError\u001b[39;00m \u001b[39mas\u001b[39;00m err:\n\u001b[1;32m-> 3082\u001b[0m         \u001b[39mraise\u001b[39;00m \u001b[39mKeyError\u001b[39;00m(key) \u001b[39mfrom\u001b[39;00m \u001b[39merr\u001b[39;00m\n\u001b[0;32m   3084\u001b[0m \u001b[39mif\u001b[39;00m tolerance \u001b[39mis\u001b[39;00m \u001b[39mnot\u001b[39;00m \u001b[39mNone\u001b[39;00m:\n\u001b[0;32m   3085\u001b[0m     tolerance \u001b[39m=\u001b[39m \u001b[39mself\u001b[39m\u001b[39m.\u001b[39m_convert_tolerance(tolerance, np\u001b[39m.\u001b[39masarray(key))\n",
      "\u001b[1;31mKeyError\u001b[0m: 'img'"
     ]
    },
    {
     "data": {
      "image/png": "[encoded data removed]",
      "text/plain": [
       "<Figure size 1600x1600 with 1 Axes>"
      ]
     },
     "metadata": {},
     "output_type": "display_data"
    }
   ],
   "source": [
    "fig = plt.figure(figsize=(16, 16))\n",
    "\n",
    "plt.subplot(121)\n",
    "img = cv2.imread(l['img'].iloc[0], cv2.IMREAD_UNCHANGED)\n",
    "plt.imshow(img)\n",
    "plt.title(\"Image\")\n",
    "\n",
    "plt.subplot(122)\n",
    "msk_path = l['mask'].iloc[0]\n",
    "msk = cv2.imread(msk_path)\n",
    "plt.imshow(msk)\n",
    "plt.title(\"Mask\")\n",
    "\n",
    "plt.show()\n",
    "\n",
    "print(img.shape)\n"
   ]
  },
  {
   "cell_type": "code",
   "execution_count": null,
   "metadata": {},
   "outputs": [
    {
     "data": {
      "text/html": [
       "<div>\n",
       "<style scoped>\n",
       "    .dataframe tbody tr th:only-of-type {\n",
       "        vertical-align: middle;\n",
       "    }\n",
       "\n",
       "    .dataframe tbody tr th {\n",
       "        vertical-align: top;\n",
       "    }\n",
       "\n",
       "    .dataframe thead th {\n",
       "        text-align: right;\n",
       "    }\n",
       "</style>\n",
       "<table border=\"1\" class=\"dataframe\">\n",
       "  <thead>\n",
       "    <tr style=\"text-align: right;\">\n",
       "      <th></th>\n",
       "      <th>img</th>\n",
       "      <th>mask</th>\n",
       "      <th>label</th>\n",
       "      <th>Patient</th>\n",
       "    </tr>\n",
       "  </thead>\n",
       "  <tbody>\n",
       "    <tr>\n",
       "      <th>0</th>\n",
       "      <td>archive-2/lgg-mri-segmentation/kaggle_3m/TCGA_...</td>\n",
       "      <td>archive-2/lgg-mri-segmentation/kaggle_3m/TCGA_...</td>\n",
       "      <td>0</td>\n",
       "      <td>TCGA_CS_6667</td>\n",
       "    </tr>\n",
       "    <tr>\n",
       "      <th>1</th>\n",
       "      <td>archive-2/lgg-mri-segmentation/kaggle_3m/TCGA_...</td>\n",
       "      <td>archive-2/lgg-mri-segmentation/kaggle_3m/TCGA_...</td>\n",
       "      <td>0</td>\n",
       "      <td>TCGA_CS_6667</td>\n",
       "    </tr>\n",
       "    <tr>\n",
       "      <th>2</th>\n",
       "      <td>archive-2/lgg-mri-segmentation/kaggle_3m/TCGA_...</td>\n",
       "      <td>archive-2/lgg-mri-segmentation/kaggle_3m/TCGA_...</td>\n",
       "      <td>0</td>\n",
       "      <td>TCGA_CS_6667</td>\n",
       "    </tr>\n",
       "    <tr>\n",
       "      <th>3</th>\n",
       "      <td>archive-2/lgg-mri-segmentation/kaggle_3m/TCGA_...</td>\n",
       "      <td>archive-2/lgg-mri-segmentation/kaggle_3m/TCGA_...</td>\n",
       "      <td>0</td>\n",
       "      <td>TCGA_CS_6667</td>\n",
       "    </tr>\n",
       "    <tr>\n",
       "      <th>4</th>\n",
       "      <td>archive-2/lgg-mri-segmentation/kaggle_3m/TCGA_...</td>\n",
       "      <td>archive-2/lgg-mri-segmentation/kaggle_3m/TCGA_...</td>\n",
       "      <td>0</td>\n",
       "      <td>TCGA_CS_6667</td>\n",
       "    </tr>\n",
       "    <tr>\n",
       "      <th>...</th>\n",
       "      <td>...</td>\n",
       "      <td>...</td>\n",
       "      <td>...</td>\n",
       "      <td>...</td>\n",
       "    </tr>\n",
       "    <tr>\n",
       "      <th>3924</th>\n",
       "      <td>archive-2/lgg-mri-segmentation/kaggle_3m/TCGA_...</td>\n",
       "      <td>archive-2/lgg-mri-segmentation/kaggle_3m/TCGA_...</td>\n",
       "      <td>0</td>\n",
       "      <td>TCGA_FG_A60K</td>\n",
       "    </tr>\n",
       "    <tr>\n",
       "      <th>3925</th>\n",
       "      <td>archive-2/lgg-mri-segmentation/kaggle_3m/TCGA_...</td>\n",
       "      <td>archive-2/lgg-mri-segmentation/kaggle_3m/TCGA_...</td>\n",
       "      <td>0</td>\n",
       "      <td>TCGA_FG_A60K</td>\n",
       "    </tr>\n",
       "    <tr>\n",
       "      <th>3926</th>\n",
       "      <td>archive-2/lgg-mri-segmentation/kaggle_3m/TCGA_...</td>\n",
       "      <td>archive-2/lgg-mri-segmentation/kaggle_3m/TCGA_...</td>\n",
       "      <td>0</td>\n",
       "      <td>TCGA_FG_A60K</td>\n",
       "    </tr>\n",
       "    <tr>\n",
       "      <th>3927</th>\n",
       "      <td>archive-2/lgg-mri-segmentation/kaggle_3m/TCGA_...</td>\n",
       "      <td>archive-2/lgg-mri-segmentation/kaggle_3m/TCGA_...</td>\n",
       "      <td>0</td>\n",
       "      <td>TCGA_FG_A60K</td>\n",
       "    </tr>\n",
       "    <tr>\n",
       "      <th>3928</th>\n",
       "      <td>archive-2/lgg-mri-segmentation/kaggle_3m/TCGA_...</td>\n",
       "      <td>archive-2/lgg-mri-segmentation/kaggle_3m/TCGA_...</td>\n",
       "      <td>0</td>\n",
       "      <td>TCGA_FG_A60K</td>\n",
       "    </tr>\n",
       "  </tbody>\n",
       "</table>\n",
       "<p>3929 rows × 4 columns</p>\n",
       "</div>"
      ],
      "text/plain": [
       "                                                    img  \\\n",
       "0     archive-2/lgg-mri-segmentation/kaggle_3m/TCGA_...   \n",
       "1     archive-2/lgg-mri-segmentation/kaggle_3m/TCGA_...   \n",
       "2     archive-2/lgg-mri-segmentation/kaggle_3m/TCGA_...   \n",
       "3     archive-2/lgg-mri-segmentation/kaggle_3m/TCGA_...   \n",
       "4     archive-2/lgg-mri-segmentation/kaggle_3m/TCGA_...   \n",
       "...                                                 ...   \n",
       "3924  archive-2/lgg-mri-segmentation/kaggle_3m/TCGA_...   \n",
       "3925  archive-2/lgg-mri-segmentation/kaggle_3m/TCGA_...   \n",
       "3926  archive-2/lgg-mri-segmentation/kaggle_3m/TCGA_...   \n",
       "3927  archive-2/lgg-mri-segmentation/kaggle_3m/TCGA_...   \n",
       "3928  archive-2/lgg-mri-segmentation/kaggle_3m/TCGA_...   \n",
       "\n",
       "                                                   mask  label       Patient  \n",
       "0     archive-2/lgg-mri-segmentation/kaggle_3m/TCGA_...      0  TCGA_CS_6667  \n",
       "1     archive-2/lgg-mri-segmentation/kaggle_3m/TCGA_...      0  TCGA_CS_6667  \n",
       "2     archive-2/lgg-mri-segmentation/kaggle_3m/TCGA_...      0  TCGA_CS_6667  \n",
       "3     archive-2/lgg-mri-segmentation/kaggle_3m/TCGA_...      0  TCGA_CS_6667  \n",
       "4     archive-2/lgg-mri-segmentation/kaggle_3m/TCGA_...      0  TCGA_CS_6667  \n",
       "...                                                 ...    ...           ...  \n",
       "3924  archive-2/lgg-mri-segmentation/kaggle_3m/TCGA_...      0  TCGA_FG_A60K  \n",
       "3925  archive-2/lgg-mri-segmentation/kaggle_3m/TCGA_...      0  TCGA_FG_A60K  \n",
       "3926  archive-2/lgg-mri-segmentation/kaggle_3m/TCGA_...      0  TCGA_FG_A60K  \n",
       "3927  archive-2/lgg-mri-segmentation/kaggle_3m/TCGA_...      0  TCGA_FG_A60K  \n",
       "3928  archive-2/lgg-mri-segmentation/kaggle_3m/TCGA_...      0  TCGA_FG_A60K  \n",
       "\n",
       "[3929 rows x 4 columns]"
      ]
     },
     "execution_count": 11,
     "metadata": {},
     "output_type": "execute_result"
    }
   ],
   "source": [
    "df"
   ]
  },
  {
   "cell_type": "code",
   "execution_count": 6,
   "metadata": {},
   "outputs": [],
   "source": [
    "# downsize the input images\n",
    "\n",
    "import os.path\n",
    "import cv2\n",
    "import numpy as np\n",
    "import random\n",
    "\n",
    "def downsample_and_split(train_size):\n",
    "    images = []\n",
    "    masks = []\n",
    "\n",
    "    # image size\n",
    "    size = 32, 32\n",
    "\n",
    "    # Iterate through each image in each subfolder\n",
    "    for index in range(len(df.index)):\n",
    "        img = df['img'][index]\n",
    "        temp_img = cv2.imread(img, cv2.IMREAD_UNCHANGED)\n",
    "\n",
    "        mask = df['mask'][index]\n",
    "        temp_mask = cv2.imread(mask)\n",
    "\n",
    "        if temp_img is None:\n",
    "            continue\n",
    "\n",
    "        # Resize the images\n",
    "        temp_img = cv2.resize(temp_img, size)\n",
    "        images.append(temp_img)\n",
    "\n",
    "        temp_mask = cv2.resize(temp_mask, size)\n",
    "        masks.append(temp_mask)\n",
    "\n",
    "    \n",
    "    # Convert to a numpy array\n",
    "    images = np.array(images)\n",
    "\n",
    "    \n",
    "    # Normalize the images\n",
    "    images = images.astype('float32')/255.0\n",
    "\n",
    "    np.random.shuffle(images)\n",
    "\n",
    "    images_train = images[:int((images.shape[0]+1)*train_size)]\n",
    "    images_test = images[int((images.shape[0]+1)*train_size):]\n",
    "\n",
    "    masks = np.array(masks)\n",
    "\n",
    "    # Normalize the masks\n",
    "    masks = masks.astype('float32')/255.0\n",
    "\n",
    "    np.random.shuffle(masks)\n",
    "    masks_train = masks[:int((masks.shape[0]+1)*train_size)]\n",
    "    masks_test = masks[int((masks.shape[0]+1)*train_size):]\n",
    "\n",
    "    # masks = masks.astype('float32')/255.0\n",
    "\n",
    "    return images_train, masks_train, images_test, masks_test\n"
   ]
  },
  {
   "cell_type": "code",
   "execution_count": 7,
   "metadata": {},
   "outputs": [
    {
     "name": "stdout",
     "output_type": "stream",
     "text": [
      "Model: \"model\"\n",
      "__________________________________________________________________________________________________\n",
      " Layer (type)                   Output Shape         Param #     Connected to                     \n",
      "==================================================================================================\n",
      " input_1 (InputLayer)           [(None, 32, 32, 3)]  0           []                               \n",
      "                                                                                                  \n",
      " conv2d (Conv2D)                (None, 32, 32, 32)   896         ['input_1[0][0]']                \n",
      "                                                                                                  \n",
      " conv2d_1 (Conv2D)              (None, 32, 32, 32)   9248        ['conv2d[0][0]']                 \n",
      "                                                                                                  \n",
      " max_pooling2d (MaxPooling2D)   (None, 16, 16, 32)   0           ['conv2d_1[0][0]']               \n",
      "                                                                                                  \n",
      " conv2d_2 (Conv2D)              (None, 16, 16, 64)   18496       ['max_pooling2d[0][0]']          \n",
      "                                                                                                  \n",
      " conv2d_3 (Conv2D)              (None, 16, 16, 64)   36928       ['conv2d_2[0][0]']               \n",
      "                                                                                                  \n",
      " max_pooling2d_1 (MaxPooling2D)  (None, 8, 8, 64)    0           ['conv2d_3[0][0]']               \n",
      "                                                                                                  \n",
      " conv2d_4 (Conv2D)              (None, 8, 8, 128)    73856       ['max_pooling2d_1[0][0]']        \n",
      "                                                                                                  \n",
      " conv2d_5 (Conv2D)              (None, 8, 8, 128)    147584      ['conv2d_4[0][0]']               \n",
      "                                                                                                  \n",
      " max_pooling2d_2 (MaxPooling2D)  (None, 4, 4, 128)   0           ['conv2d_5[0][0]']               \n",
      "                                                                                                  \n",
      " conv2d_6 (Conv2D)              (None, 4, 4, 256)    295168      ['max_pooling2d_2[0][0]']        \n",
      "                                                                                                  \n",
      " conv2d_7 (Conv2D)              (None, 4, 4, 256)    590080      ['conv2d_6[0][0]']               \n",
      "                                                                                                  \n",
      " dropout (Dropout)              (None, 4, 4, 256)    0           ['conv2d_7[0][0]']               \n",
      "                                                                                                  \n",
      " max_pooling2d_3 (MaxPooling2D)  (None, 2, 2, 256)   0           ['dropout[0][0]']                \n",
      "                                                                                                  \n",
      " conv2d_8 (Conv2D)              (None, 2, 2, 512)    1180160     ['max_pooling2d_3[0][0]']        \n",
      "                                                                                                  \n",
      " conv2d_9 (Conv2D)              (None, 2, 2, 512)    2359808     ['conv2d_8[0][0]']               \n",
      "                                                                                                  \n",
      " dropout_1 (Dropout)            (None, 2, 2, 512)    0           ['conv2d_9[0][0]']               \n",
      "                                                                                                  \n",
      " up_sampling2d (UpSampling2D)   (None, 4, 4, 512)    0           ['dropout_1[0][0]']              \n",
      "                                                                                                  \n",
      " conv2d_10 (Conv2D)             (None, 4, 4, 256)    524544      ['up_sampling2d[0][0]']          \n",
      "                                                                                                  \n",
      " concatenate (Concatenate)      (None, 4, 4, 512)    0           ['dropout[0][0]',                \n",
      "                                                                  'conv2d_10[0][0]']              \n",
      "                                                                                                  \n",
      " conv2d_11 (Conv2D)             (None, 4, 4, 256)    1179904     ['concatenate[0][0]']            \n",
      "                                                                                                  \n",
      " conv2d_12 (Conv2D)             (None, 4, 4, 256)    590080      ['conv2d_11[0][0]']              \n",
      "                                                                                                  \n",
      " up_sampling2d_1 (UpSampling2D)  (None, 8, 8, 256)   0           ['conv2d_12[0][0]']              \n",
      "                                                                                                  \n",
      " conv2d_13 (Conv2D)             (None, 8, 8, 128)    131200      ['up_sampling2d_1[0][0]']        \n",
      "                                                                                                  \n",
      " concatenate_1 (Concatenate)    (None, 8, 8, 256)    0           ['conv2d_5[0][0]',               \n",
      "                                                                  'conv2d_13[0][0]']              \n",
      "                                                                                                  \n",
      " conv2d_14 (Conv2D)             (None, 8, 8, 128)    295040      ['concatenate_1[0][0]']          \n",
      "                                                                                                  \n",
      " conv2d_15 (Conv2D)             (None, 8, 8, 128)    147584      ['conv2d_14[0][0]']              \n",
      "                                                                                                  \n",
      " up_sampling2d_2 (UpSampling2D)  (None, 16, 16, 128)  0          ['conv2d_15[0][0]']              \n",
      "                                                                                                  \n",
      " conv2d_16 (Conv2D)             (None, 16, 16, 64)   32832       ['up_sampling2d_2[0][0]']        \n",
      "                                                                                                  \n",
      " concatenate_2 (Concatenate)    (None, 16, 16, 128)  0           ['conv2d_3[0][0]',               \n",
      "                                                                  'conv2d_16[0][0]']              \n",
      "                                                                                                  \n",
      " conv2d_17 (Conv2D)             (None, 16, 16, 64)   73792       ['concatenate_2[0][0]']          \n",
      "                                                                                                  \n",
      " conv2d_18 (Conv2D)             (None, 16, 16, 64)   36928       ['conv2d_17[0][0]']              \n",
      "                                                                                                  \n",
      " up_sampling2d_3 (UpSampling2D)  (None, 32, 32, 64)  0           ['conv2d_18[0][0]']              \n",
      "                                                                                                  \n",
      " conv2d_19 (Conv2D)             (None, 32, 32, 32)   8224        ['up_sampling2d_3[0][0]']        \n",
      "                                                                                                  \n",
      " concatenate_3 (Concatenate)    (None, 32, 32, 64)   0           ['conv2d_1[0][0]',               \n",
      "                                                                  'conv2d_19[0][0]']              \n",
      "                                                                                                  \n",
      " conv2d_20 (Conv2D)             (None, 32, 32, 32)   18464       ['concatenate_3[0][0]']          \n",
      "                                                                                                  \n",
      " conv2d_21 (Conv2D)             (None, 32, 32, 32)   9248        ['conv2d_20[0][0]']              \n",
      "                                                                                                  \n",
      " conv2d_22 (Conv2D)             (None, 32, 32, 2)    578         ['conv2d_21[0][0]']              \n",
      "                                                                                                  \n",
      " conv2d_23 (Conv2D)             (None, 32, 32, 3)    9           ['conv2d_22[0][0]']              \n",
      "                                                                                                  \n",
      "==================================================================================================\n",
      "Total params: 7,760,651\n",
      "Trainable params: 7,760,651\n",
      "Non-trainable params: 0\n",
      "__________________________________________________________________________________________________\n"
     ]
    }
   ],
   "source": [
    "import os\n",
    "import numpy as np\n",
    "import tensorflow as tf\n",
    "from tensorflow.keras.layers import Input, Conv2D, MaxPooling2D, Dropout, UpSampling2D, concatenate\n",
    "from tensorflow.keras.models import Model\n",
    "from tensorflow.keras.preprocessing.image import ImageDataGenerator\n",
    "\n",
    "# Define the input and output shapes\n",
    "input_shape = (32, 32, 3)\n",
    "output_shape = (32, 32, 3)\n",
    "\n",
    "# Define the U-Net architecture\n",
    "inputs = Input(input_shape)\n",
    "conv1 = Conv2D(32, 3, activation='relu', padding='same')(inputs)\n",
    "conv1 = Conv2D(32, 3, activation='relu', padding='same')(conv1)\n",
    "pool1 = MaxPooling2D(pool_size=(2, 2))(conv1)\n",
    "\n",
    "conv2 = Conv2D(64, 3, activation='relu', padding='same')(pool1)\n",
    "conv2 = Conv2D(64, 3, activation='relu', padding='same')(conv2)\n",
    "pool2 = MaxPooling2D(pool_size=(2, 2))(conv2)\n",
    "\n",
    "conv3 = Conv2D(128, 3, activation='relu', padding='same')(pool2)\n",
    "conv3 = Conv2D(128, 3, activation='relu', padding='same')(conv3)\n",
    "pool3 = MaxPooling2D(pool_size=(2, 2))(conv3)\n",
    "\n",
    "conv4 = Conv2D(256, 3, activation='relu', padding='same')(pool3)\n",
    "conv4 = Conv2D(256, 3, activation='relu', padding='same')(conv4)\n",
    "drop4 = Dropout(0.5)(conv4)\n",
    "pool4 = MaxPooling2D(pool_size=(2, 2))(drop4)\n",
    "\n",
    "conv5 = Conv2D(512, 3, activation='relu', padding='same')(pool4)\n",
    "conv5 = Conv2D(512, 3, activation='relu', padding='same')(conv5)\n",
    "drop5 = Dropout(0.5)(conv5)\n",
    "\n",
    "up6 = Conv2D(256, 2, activation='relu', padding='same')(UpSampling2D(size=(2, 2))(drop5))\n",
    "merge6 = concatenate([drop4, up6], axis=3)\n",
    "conv6 = Conv2D(256, 3, activation='relu', padding='same')(merge6)\n",
    "conv6 = Conv2D(256, 3, activation='relu', padding='same')(conv6)\n",
    "\n",
    "up7 = Conv2D(128, 2, activation='relu', padding='same')(UpSampling2D(size=(2, 2))(conv6))\n",
    "merge7 = concatenate([conv3, up7], axis=3)\n",
    "conv7 = Conv2D(128, 3, activation='relu', padding='same')(merge7)\n",
    "conv7 = Conv2D(128, 3, activation='relu', padding='same')(conv7)\n",
    "\n",
    "up8 = Conv2D(64, 2, activation='relu', padding='same')(UpSampling2D(size=(2, 2))(conv7))\n",
    "merge8 = concatenate([conv2, up8], axis=3)\n",
    "conv8 = Conv2D(64, 3, activation='relu', padding='same')(merge8)\n",
    "conv8 = Conv2D(64, 3, activation='relu', padding='same')(conv8)\n",
    "\n",
    "up9 = Conv2D(32, 2, activation='relu', padding='same')(UpSampling2D(size=(2, 2))(conv8))\n",
    "merge9 = concatenate([conv1, up9], axis=3)\n",
    "conv9 = Conv2D(32, 3, activation='relu', padding='same')(merge9)\n",
    "conv9 = Conv2D(32, 3, activation='relu', padding='same')(conv9)\n",
    "conv9 = Conv2D(2, 3, activation='relu', padding='same')(conv9)\n",
    "conv10 = Conv2D(3, 1, activation='sigmoid')(conv9)\n",
    "\n",
    "model = Model(inputs=[inputs], outputs=[conv10])\n",
    "\n",
    "model.summary()"
   ]
  },
  {
   "cell_type": "code",
   "execution_count": 8,
   "metadata": {},
   "outputs": [
    {
     "name": "stdout",
     "output_type": "stream",
     "text": [
      "(3144, 32, 32, 3)\n"
     ]
    }
   ],
   "source": [
    "X_train, Y_train, x_test, y_test = downsample_and_split(0.8)  # function to load and preprocess dataset and mask\n",
    "print(Y_train.shape)"
   ]
  },
  {
   "cell_type": "code",
   "execution_count": 9,
   "metadata": {},
   "outputs": [
    {
     "name": "stdout",
     "output_type": "stream",
     "text": [
      "Epoch 1/5\n",
      "177/177 [==============================] - 51s 283ms/step - loss: 0.0196 - dice_coefficient: 0.9804 - val_loss: 0.0068 - val_dice_coefficient: 0.9932\n",
      "Epoch 2/5\n",
      "177/177 [==============================] - 50s 280ms/step - loss: 0.0077 - dice_coefficient: 0.9923 - val_loss: 0.0068 - val_dice_coefficient: 0.9932\n",
      "Epoch 3/5\n",
      "177/177 [==============================] - 50s 282ms/step - loss: 0.0077 - dice_coefficient: 0.9923 - val_loss: 0.0068 - val_dice_coefficient: 0.9932\n",
      "Epoch 4/5\n",
      "177/177 [==============================] - 50s 284ms/step - loss: 0.0077 - dice_coefficient: 0.9923 - val_loss: 0.0068 - val_dice_coefficient: 0.9932\n",
      "Epoch 5/5\n",
      "177/177 [==============================] - 50s 284ms/step - loss: 0.0077 - dice_coefficient: 0.9923 - val_loss: 0.0068 - val_dice_coefficient: 0.9932\n"
     ]
    },
    {
     "data": {
      "text/plain": [
       "<keras.callbacks.History at 0x152f0b4e970>"
      ]
     },
     "execution_count": 9,
     "metadata": {},
     "output_type": "execute_result"
    }
   ],
   "source": [
    "from tensorflow.keras import backend as K\n",
    "\n",
    "def dice_coefficient(y_true, y_pred, smooth=1):\n",
    "    intersection = K.sum(K.abs(y_true * y_pred), axis=-1)\n",
    "    return (2. * intersection + smooth) / (K.sum(K.square(y_true), axis=-1) + K.sum(K.square(y_pred), axis=-1) + smooth)\n",
    "\n",
    "def dice_coefficient_loss(y_true, y_pred):\n",
    "    return 1 - dice_coefficient(y_true, y_pred)\n",
    "\n",
    "model.compile(optimizer='adam', loss=dice_coefficient_loss, metrics=[dice_coefficient])\n",
    "model.fit(X_train, Y_train, batch_size=16, epochs=5, validation_split=0.1)"
   ]
  },
  {
   "cell_type": "code",
   "execution_count": 10,
   "metadata": {},
   "outputs": [
    {
     "name": "stdout",
     "output_type": "stream",
     "text": [
      "25/25 [==============================] - 2s 78ms/step\n"
     ]
    }
   ],
   "source": [
    "Y_pred = model.predict(x_test)\n"
   ]
  },
  {
   "cell_type": "code",
   "execution_count": 16,
   "metadata": {},
   "outputs": [
    {
     "data": {
      "text/plain": [
       "<matplotlib.image.AxesImage at 0x15287bc3b80>"
      ]
     },
     "execution_count": 16,
     "metadata": {},
     "output_type": "execute_result"
    },
    {
     "data": {
      "image/png": "[encoded data removed]",
      "text/plain": [
       "<Figure size 640x480 with 1 Axes>"
      ]
     },
     "metadata": {},
     "output_type": "display_data"
    }
   ],
   "source": [
    "# fig = plt.figure(figsize=(16, 16))\n",
    "\n",
    "# plt.subplot(121)\n",
    "# img = cv2.imread(l['img'].iloc[0], cv2.IMREAD_UNCHANGED)\n",
    "# plt.imshow(img)\n",
    "# plt.title(\"Image\")\n",
    "\n",
    "# plt.subplot(122)\n",
    "# msk_path = l['mask'].iloc[0]\n",
    "# msk = cv2.imread(msk_path)\n",
    "# plt.imshow(msk)\n",
    "# plt.title(\"Mask\")\n",
    "\n",
    "# plt.show()\n",
    "\n",
    "#print(img.shape)\n",
    "\n",
    "plt.imshow(x_test[20])"
   ]
  },
  {
   "cell_type": "code",
   "execution_count": 12,
   "metadata": {},
   "outputs": [
    {
     "data": {
      "text/plain": [
       "<matplotlib.image.AxesImage at 0x152f0b87e50>"
      ]
     },
     "execution_count": 12,
     "metadata": {},
     "output_type": "execute_result"
    },
    {
     "data": {
      "image/png": "[encoded data removed]",
      "text/plain": [
       "<Figure size 640x480 with 1 Axes>"
      ]
     },
     "metadata": {},
     "output_type": "display_data"
    }
   ],
   "source": [
    "plt.imshow(Y_pred[20])"
   ]
  },
  {
   "cell_type": "code",
   "execution_count": 17,
   "metadata": {},
   "outputs": [
    {
     "data": {
      "text/plain": [
       "<matplotlib.image.AxesImage at 0x15287c6cbe0>"
      ]
     },
     "execution_count": 17,
     "metadata": {},
     "output_type": "execute_result"
    },
    {
     "data": {
      "image/png": "[encoded data removed]",
      "text/plain": [
       "<Figure size 640x480 with 1 Axes>"
      ]
     },
     "metadata": {},
     "output_type": "display_data"
    }
   ],
   "source": [
    "plt.imshow(y_test[20])"
   ]
  }
 ],
 "metadata": {
  "kernelspec": {
   "display_name": "base",
   "language": "python",
   "name": "python3"
  },
  "language_info": {
   "codemirror_mode": {
    "name": "ipython",
    "version": 3
   },
   "file_extension": ".py",
   "mimetype": "text/x-python",
   "name": "python",
   "nbconvert_exporter": "python",
   "pygments_lexer": "ipython3",
   "version": "3.8.3"
  },
  "orig_nbformat": 4,
  "vscode": {
   "interpreter": {
    "hash": "901b1323af1f8dc747c043e6a5361bf3852e208d6d35420f6cde314e369d6a66"
   }
  }
 },
 "nbformat": 4,
 "nbformat_minor": 2
}
